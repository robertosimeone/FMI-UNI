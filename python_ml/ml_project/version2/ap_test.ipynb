{
 "cells": [
  {
   "cell_type": "code",
   "execution_count": 1,
   "metadata": {},
   "outputs": [
    {
     "name": "stdout",
     "output_type": "stream",
     "text": [
      "Estimated number of clusters: 2\n",
      "Cluster centers: [0 3]\n",
      "Labels: [0 0 0 1 1 1]\n"
     ]
    }
   ],
   "source": [
    "\n",
    "import numpy as np\n",
    "from sklearn.cluster import AffinityPropagation\n",
    "\n",
    "# Create sample data\n",
    "X = np.array([[1, 2], [1, 4], [1, 0],\n",
    "              [4, 2], [4, 4], [4, 0]])\n",
    "\n",
    "# Fit the model\n",
    "af = AffinityPropagation().fit(X)\n",
    "\n",
    "# Get cluster centers\n",
    "cluster_centers_indices = af.cluster_centers_indices_\n",
    "labels = af.labels_\n",
    "\n",
    "# Print results\n",
    "n_clusters_ = len(cluster_centers_indices)\n",
    "print('Estimated number of clusters: %d' % n_clusters_)\n",
    "print('Cluster centers: %s' % cluster_centers_indices)\n",
    "print('Labels: %s' % labels)"
   ]
  },
  {
   "cell_type": "code",
   "execution_count": 4,
   "metadata": {},
   "outputs": [
    {
     "name": "stdout",
     "output_type": "stream",
     "text": [
      "Silhouette Coefficient: 0.287\n",
      "Calinski-harbazs: 3.375\n",
      "Silhouette Coefficient: 0.889\n"
     ]
    },
    {
     "data": {
      "image/png": "[encoded data removed]",
      "text/plain": [
       "<Figure size 640x480 with 1 Axes>"
      ]
     },
     "metadata": {},
     "output_type": "display_data"
    }
   ],
   "source": [
    "from sklearn.metrics import calinski_harabasz_score,davies_bouldin_score,silhouette_score\n",
    "from sklearn.cluster import AffinityPropagation\n",
    "from matplotlib import pyplot as plt\n",
    "af = AffinityPropagation(preference=-50,damping=0.9, random_state=0).fit(X)\n",
    "cluster_centers_indices = af.cluster_centers_indices_\n",
    "labels = af.labels_\n",
    "\n",
    "n_clusters_ = len(cluster_centers_indices)\n",
    "print(\n",
    "    \"Silhouette Coefficient: %0.3f\"\n",
    "    % silhouette_score(X, labels)\n",
    ")\n",
    "print(\n",
    "    \"Calinski-harbazs: %0.3f\"\n",
    "    % calinski_harabasz_score(X, labels)\n",
    ")\n",
    "print(\n",
    "    \"Silhouette Coefficient: %0.3f\"\n",
    "    % davies_bouldin_score(X, labels)\n",
    ")\n",
    "colors = plt.cycler(\"color\", plt.cm.viridis(np.linspace(0, 1, 4)))\n",
    "\n",
    "for k, col in zip(range(n_clusters_), colors):\n",
    "    class_members = labels == k\n",
    "    cluster_center = X[cluster_centers_indices[k]]\n",
    "    plt.scatter(\n",
    "        X[class_members, 0], X[class_members, 1], color=col[\"color\"], marker=\".\"\n",
    "    )\n",
    "    plt.scatter(\n",
    "        cluster_center[0], cluster_center[1], s=14, color=col[\"color\"], marker=\"v\"\n",
    "    )\n",
    "    for x in X[class_members]:\n",
    "        plt.plot(\n",
    "            [cluster_center[0], x[0]], [cluster_center[1], x[1]], color=col[\"color\"]\n",
    "        )\n",
    "\n",
    "plt.title(\"Estimated number of clusters: %d\" % n_clusters_)\n",
    "plt.show()"
   ]
  }
 ],
 "metadata": {
  "kernelspec": {
   "display_name": "Python 3",
   "language": "python",
   "name": "python3"
  },
  "language_info": {
   "codemirror_mode": {
    "name": "ipython",
    "version": 3
   },
   "file_extension": ".py",
   "mimetype": "text/x-python",
   "name": "python",
   "nbconvert_exporter": "python",
   "pygments_lexer": "ipython3",
   "version": "3.11.2"
  },
  "orig_nbformat": 4
 },
 "nbformat": 4,
 "nbformat_minor": 2
}
